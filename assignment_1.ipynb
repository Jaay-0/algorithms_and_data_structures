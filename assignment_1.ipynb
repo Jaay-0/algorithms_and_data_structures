{
 "cells": [
  {
   "cell_type": "markdown",
   "metadata": {},
   "source": [
    "# Coding Problems\n",
    "\n",
    "## Objective\n",
    "\n",
    "This assignment aims to demonstrate how to study a data structures or algorithms question in depth to prepare for an industry coding interview. Leetcode is a popular coding practice site that many use to practice for technical interviews. Like behavioral interviews, it's important to practice and keep your skills sharp.\n",
    "\n",
    "## Group Size\n",
    "\n",
    "Please complete this individually.\n",
    "\n",
    "## Part 1:\n",
    "\n",
    "_*You will be assigned one of three problems based of your first name. Execute the code below, and that will tell you your assigned problem. Include the output as part of your submission (do not clear the output). The problems are based-off problems from Leetcode.*_\n"
   ]
  },
  {
   "cell_type": "code",
   "execution_count": 1,
   "metadata": {},
   "outputs": [
    {
     "name": "stdout",
     "output_type": "stream",
     "text": [
      "1\n"
     ]
    }
   ],
   "source": [
    "print((hash('Janaparan') % 3) + 1)"
   ]
  },
  {
   "cell_type": "markdown",
   "metadata": {},
   "source": [
    "<details>\n",
    "  <summary>Question 1</summary>\n",
    "\n",
    "  # Question One: Check Duplicates in Tree\n",
    "\n",
    "  Given the `root` of a binary tree, check whether it is contains a duplicate value. If a duplicate exists, return the duplicate value. If there are multiple duplicates, return the one with the closest distance to the root. If no duplicate exists, return -1.\n",
    "\n",
    "  ## Examples\n",
    "\n",
    "  ### Example 1\n",
    "\n",
    "  ![](./images/q1_ex1.png)\n",
    "\n",
    "  Input: `root = [1, 2, 2, 3, 5, 6, 7]` *What traversal method is this?*\n",
    "\n",
    "  Output: 2\n",
    "\n",
    "  ### Example 2\n",
    "\n",
    "  ![](./images/q1_ex2.png)\n",
    "\n",
    "  Input: `root = [1, 10, 2, 3, 10, 12, 12]`\n",
    "\n",
    "  Output: 10\n",
    "\n",
    "  ### Example 3\n",
    "\n",
    "  ![](./images/q1_ex3.png)\n",
    "\n",
    "  Input: `root = [10, 9, 8, 7]`\n",
    "\n",
    "  Output: -1\n",
    "\n",
    "</details>\n",
    "\n",
    "#### Starter Code for Question 1"
   ]
  },
  {
   "cell_type": "code",
   "execution_count": 8,
   "metadata": {},
   "outputs": [],
   "source": [
    "from collections import deque, defaultdict\n",
    "\n",
    "# Definition for a binary tree node.\n",
    "class TreeNode:\n",
    "    def __init__(self, val=0, left=None, right=None):\n",
    "        self.val = val\n",
    "        self.left = left\n",
    "        self.right = right\n",
    "\n",
    "def is_duplicate(root: TreeNode) -> int:\n",
    "    if not root:\n",
    "        return -1\n",
    "    \n",
    "    queue = deque([(root, 0)])  # (node, depth)\n",
    "    value_depth_map = defaultdict(list)\n",
    "    \n",
    "    while queue:\n",
    "        node, depth = queue.popleft()\n",
    "        value_depth_map[node.val].append(depth)\n",
    "        \n",
    "        if node.left:\n",
    "            queue.append((node.left, depth + 1))\n",
    "        if node.right:\n",
    "            queue.append((node.right, depth + 1))\n",
    "    \n",
    "    closest_duplicate = -1\n",
    "    min_depth = float('inf')\n",
    "    \n",
    "    for val, depths in value_depth_map.items():\n",
    "        if len(depths) > 1:\n",
    "            first_occurrence_depth = min(depths)\n",
    "            if first_occurrence_depth < min_depth:\n",
    "                min_depth = first_occurrence_depth\n",
    "                closest_duplicate = val\n",
    "    \n",
    "    return closest_duplicate\n",
    "\n",
    "# Helper function to build a binary tree from a list\n",
    "def build_tree(nodes):\n",
    "    if not nodes:\n",
    "        return None\n",
    "    root = TreeNode(nodes[0])\n",
    "    queue = deque([root])\n",
    "    i = 1\n",
    "    while i < len(nodes):\n",
    "        node = queue.popleft()\n",
    "        if nodes[i] is not None:\n",
    "            node.left = TreeNode(nodes[i])\n",
    "            queue.append(node.left)\n",
    "        i += 1\n",
    "        if i < len(nodes) and nodes[i] is not None:\n",
    "            node.right = TreeNode(nodes[i])\n",
    "            queue.append(node.right)\n",
    "        i += 1\n",
    "    return root\n"
   ]
  },
  {
   "cell_type": "code",
   "execution_count": 9,
   "metadata": {},
   "outputs": [
    {
     "name": "stdout",
     "output_type": "stream",
     "text": [
      "2\n",
      "10\n",
      "-1\n"
     ]
    }
   ],
   "source": [
    "# Example usage:\n",
    "# Example 1\n",
    "root1 = build_tree([1, 2, 2, 3, 5, 6, 7])\n",
    "print(is_duplicate(root1))  # Output: 2\n",
    "\n",
    "# Example 2\n",
    "root2 = build_tree([1, 10, 2, 3, 10, 12, 12])\n",
    "print(is_duplicate(root2))  # Output: 10\n",
    "\n",
    "# Example 3\n",
    "root3 = build_tree([10, 9, 8, 7])\n",
    "print(is_duplicate(root3))  # Output: -1"
   ]
  },
  {
   "cell_type": "markdown",
   "metadata": {},
   "source": [
    "<details>\n",
    "  <summary>Question 2</summary>\n",
    "\n",
    "  # Question Two: Path to Leaves\n",
    "\n",
    "  Given the `root` of a binary tree, return all root to leaf paths in any order.\n",
    "\n",
    "  ## Examples\n",
    "\n",
    "  ### Example 1\n",
    "\n",
    "  ![](./images/q1_ex1.png)\n",
    "\n",
    "  Input: `root = [1, 2, 2, 3, 5, 6, 7]` *What traversal method is this?*\n",
    "\n",
    "  Output: [[1, 2, 3], [1, 2, 5], [1, 2, 6], [1, 2, 7]]\n",
    "\n",
    "  ### Example 2\n",
    "\n",
    "  ![](./images/q1_ex3.png)\n",
    "\n",
    "  Input: `root = [10, 9, 8, 7]`\n",
    "\n",
    "  Output: [[10, 7], [10, 9, 8]]\n",
    "\n",
    "</details>\n",
    "\n",
    "#### Starter Code for Question 2"
   ]
  },
  {
   "cell_type": "code",
   "execution_count": null,
   "metadata": {},
   "outputs": [],
   "source": [
    "# Definition for a binary tree node.\n",
    "# class TreeNode(object):\n",
    "#     def __init__(self, val = 0, left = None, right = None):\n",
    "#         self.val = val\n",
    "#         self.left = left\n",
    "#         self.right = right\n",
    "def bt_path(root: TreeNode) -> List[List[int]]:\n",
    "  # TODO"
   ]
  },
  {
   "cell_type": "markdown",
   "metadata": {},
   "source": [
    "<details>\n",
    "  <summary>Question 3</summary>\n",
    "\n",
    "  # Question Three: Missing Number in Range\n",
    " \n",
    "  You are given a list containing `n` integers in the range `[0, n]`. Return a list of numbers that are missing from the range `[0, n]` of the array. If there is no missing number, return -1. Note, all the integers in the list may not be unique.\n",
    "  \n",
    "  ## Examples\n",
    "\n",
    "  ### Example 1\n",
    "\n",
    "  Input: `lst = [0, 2]`\n",
    "\n",
    "  Output: [1]\n",
    "\n",
    "  ### Example 2\n",
    "\n",
    "  Input: `lst = [5, 0, 1]`\n",
    "\n",
    "  Output: [2, 3, 4]\n",
    "\n",
    "  ### Example 3\n",
    "\n",
    "  Input: `lst = [6, 8, 2, 3, 5, 7, 0, 1, 10]`\n",
    "\n",
    "  Output: [4, 9]\n",
    "\n",
    "</details>\n",
    "\n",
    "#### Starter Code for Question 3\n"
   ]
  },
  {
   "cell_type": "code",
   "execution_count": null,
   "metadata": {},
   "outputs": [],
   "source": [
    "def missing_num(nums: List) -> int:\n",
    "  # TODO"
   ]
  },
  {
   "cell_type": "markdown",
   "metadata": {},
   "source": [
    "\n",
    "## Part 2:\n",
    "\n",
    "-   Paraphrase the problem in your own words\n"
   ]
  },
  {
   "cell_type": "code",
   "execution_count": 10,
   "metadata": {},
   "outputs": [],
   "source": [
    "# Your answer here"
   ]
  },
  {
   "cell_type": "code",
   "execution_count": null,
   "metadata": {},
   "outputs": [],
   "source": [
    "# Given the root of a binary tree, we need to check if any value in the tree is repeated. \n",
    "# If a duplicate value is found, we return the value that is duplicated and is closest to the root. \n",
    "# If there are multiple duplicates, we return the first one encountered during a breadth-first traversal. \n",
    "# If no duplicates are found, we return -1."
   ]
  },
  {
   "cell_type": "markdown",
   "metadata": {},
   "source": [
    "\n",
    "-   In the .md file containing your problem, there are examples that illustrate how the code should work. Create 2 new examples that demonstrate you understand the problem.\n"
   ]
  },
  {
   "cell_type": "code",
   "execution_count": 11,
   "metadata": {},
   "outputs": [],
   "source": [
    "# Your answer here\n",
    "#Example: 1\n",
    "\n",
    "        1\n",
    "       / \\\n",
    "      2   3\n",
    "     / \\   \\\n",
    "    4   5   6\n",
    "   / \\\n",
    "  7   8\n",
    "Input: root = [1, 2, 3, 4, 5, None, 6, 7, 8]\n",
    "Output: -1\n",
    "\n",
    "#Example: 2\n",
    "        5\n",
    "       / \\\n",
    "      3   8\n",
    "     / \\   \\\n",
    "    2   4   9\n",
    "             \\\n",
    "              3\n",
    "Input: root = [5, 3, 8, 2, 4, None, 9, None, None, None, None, None, 3]\n",
    "Output: 3\n",
    "\n"
   ]
  },
  {
   "cell_type": "markdown",
   "metadata": {},
   "source": [
    "\n",
    "-   Code the solution to your assigned problem in Python (code chunk). Try to find the best time and space complexity solution!\n"
   ]
  },
  {
   "cell_type": "code",
   "execution_count": 12,
   "metadata": {},
   "outputs": [
    {
     "name": "stdout",
     "output_type": "stream",
     "text": [
      "2\n",
      "10\n",
      "-1\n",
      "3\n",
      "-1\n"
     ]
    }
   ],
   "source": [
    "# Your answer here\n",
    "from collections import deque, defaultdict\n",
    "\n",
    "# Definition for a binary tree node.\n",
    "class TreeNode:\n",
    "    def __init__(self, val=0, left=None, right=None):\n",
    "        self.val = val\n",
    "        self.left = left\n",
    "        self.right = right\n",
    "\n",
    "def is_duplicate(root: TreeNode) -> int:\n",
    "    if not root:\n",
    "        return -1\n",
    "    \n",
    "    queue = deque([(root, 0)])  # (node, depth)\n",
    "    value_depth_map = defaultdict(list)\n",
    "    \n",
    "    while queue:\n",
    "        node, depth = queue.popleft()\n",
    "        value_depth_map[node.val].append(depth)\n",
    "        \n",
    "        if node.left:\n",
    "            queue.append((node.left, depth + 1))\n",
    "        if node.right:\n",
    "            queue.append((node.right, depth + 1))\n",
    "    \n",
    "    closest_duplicate = -1\n",
    "    min_depth = float('inf')\n",
    "    \n",
    "    for val, depths in value_depth_map.items():\n",
    "        if len(depths) > 1:\n",
    "            first_occurrence_depth = min(depths)\n",
    "            if first_occurrence_depth < min_depth:\n",
    "                min_depth = first_occurrence_depth\n",
    "                closest_duplicate = val\n",
    "    \n",
    "    return closest_duplicate\n",
    "\n",
    "# Helper function to build a binary tree from a list\n",
    "def build_tree(nodes):\n",
    "    if not nodes:\n",
    "        return None\n",
    "    root = TreeNode(nodes[0])\n",
    "    queue = deque([root])\n",
    "    i = 1\n",
    "    while i < len(nodes):\n",
    "        node = queue.popleft()\n",
    "        if nodes[i] is not None:\n",
    "            node.left = TreeNode(nodes[i])\n",
    "            queue.append(node.left)\n",
    "        i += 1\n",
    "        if i < len(nodes) and nodes[i] is not None:\n",
    "            node.right = TreeNode(nodes[i])\n",
    "            queue.append(node.right)\n",
    "        i += 1\n",
    "    return root\n",
    "\n",
    "# Example usage:\n",
    "# Example 1\n",
    "root1 = build_tree([1, 2, 2, 3, 5, 6, 7])\n",
    "print(is_duplicate(root1))  # Output: 2\n",
    "\n",
    "# Example 2\n",
    "root2 = build_tree([1, 10, 2, 3, 10, 12, 12])\n",
    "print(is_duplicate(root2))  # Output: 10\n",
    "\n",
    "# Example 3\n",
    "root3 = build_tree([10, 9, 8, 7])\n",
    "print(is_duplicate(root3))  # Output: -1\n",
    "\n",
    "# Example 4\n",
    "root4 = build_tree([5, 3, 8, 2, 4, None, 9, None, None, None, None, None, 3])\n",
    "print(is_duplicate(root4))  # Output: 3\n",
    "\n",
    "# Example 5\n",
    "root5 = build_tree([1, 2, 3, 4, 5, None, 6, 7, 8])\n",
    "print(is_duplicate(root5))  # Output: -1\n"
   ]
  },
  {
   "cell_type": "markdown",
   "metadata": {},
   "source": [
    "\n",
    "-   Explain why your solution works\n"
   ]
  },
  {
   "cell_type": "code",
   "execution_count": null,
   "metadata": {},
   "outputs": [],
   "source": [
    "# Your answer here\n",
    "#The solution works by performing a breadth-first search traversal of the binary tree. \n",
    "# During the traversal, it keeps track of the depth at which each value appears using a dictionary. \n",
    "# Once the traversal is complete, it checks the dictionary to find any values that appear more than once. \n",
    "# Among these, it returns the value that appears closest to the root. If no duplicates are found, it returns -1.\n"
   ]
  },
  {
   "cell_type": "markdown",
   "metadata": {},
   "source": [
    "\n",
    "-   Explain the problem’s and space complexity\n"
   ]
  },
  {
   "cell_type": "code",
   "execution_count": null,
   "metadata": {},
   "outputs": [],
   "source": [
    "# Your answer here\n",
    "#Time Complexity: O(n), where n is the number of nodes in the binary tree. \n",
    "# This is because we visit each node exactly once during the BFS traversal.    \n",
    "\n",
    "#Space Complexity: O(n), where n is the number of nodes in the binary tree. \n",
    "# This space is used for the queue in the BFS traversal and the dictionary that stores the depths of each value."
   ]
  },
  {
   "cell_type": "markdown",
   "metadata": {},
   "source": [
    "\n",
    "-   Explain the thinking to an alternative solution (no coding required, but a classmate reading this should be able to code it up based off your text)\n"
   ]
  },
  {
   "cell_type": "code",
   "execution_count": null,
   "metadata": {},
   "outputs": [],
   "source": [
    "# Your answer here\n",
    "#An alternative solution could use a depth-first search (DFS) approach instead of BFS.\n",
    "\n",
    "\n",
    "\n",
    "# Perform a DFS traversal of the tree.\n",
    "# Use a dictionary to store the values and their depths.\n",
    "# As we traverse, check if we encounter a value that already exists in the dictionary.\n",
    "# If a duplicate is found, compare its depth with the previously stored depth.\n",
    "# Update the result if the new duplicate is closer to the root.\n",
    "# After the traversal, return the closest duplicate or -1 if no duplicates are found.\n",
    "\n",
    "#This approach would also have a time complexity of O(n) and a space complexity of O(n), similar to the BFS approach. \n",
    "# The main difference is the order in which nodes are visited and processed.    "
   ]
  },
  {
   "cell_type": "markdown",
   "metadata": {},
   "source": [
    "## Evaluation Criteria\n",
    "\n",
    "-   Problem is accurately stated\n",
    "\n",
    "-   Two examples are correct and easily understandable\n",
    "\n",
    "-   Correctness, time, and space complexity of the coding solution\n",
    "\n",
    "-   Clarity in explaining why the solution works, its time and space complexity\n",
    "\n",
    "-   Clarity in the proposal to the alternative solution"
   ]
  },
  {
   "cell_type": "markdown",
   "metadata": {},
   "source": [
    "## Submission Information\n",
    "\n",
    "🚨 **Please review our [Assignment Submission Guide](https://github.com/UofT-DSI/onboarding/blob/main/onboarding_documents/submissions.md)** 🚨 for detailed instructions on how to format, branch, and submit your work. Following these guidelines is crucial for your submissions to be evaluated correctly.\n",
    "\n",
    "### Submission Parameters:\n",
    "* Submission Due Date: `HH:MM AM/PM - DD/MM/YYYY`\n",
    "* The branch name for your repo should be: `assignment-1`\n",
    "* What to submit for this assignment:\n",
    "    * This Jupyter Notebook (assignment_1.ipynb) should be populated and should be the only change in your pull request.\n",
    "* What the pull request link should look like for this assignment: `https://github.com/<your_github_username>/algorithms_and_data_structures/pull/<pr_id>`\n",
    "    * Open a private window in your browser. Copy and paste the link to your pull request into the address bar. Make sure you can see your pull request properly. This helps the technical facilitator and learning support staff review your submission easily.\n",
    "\n",
    "Checklist:\n",
    "- [ ] Create a branch called `assignment-1`.\n",
    "- [ ] Ensure that the repository is public.\n",
    "- [ ] Review [the PR description guidelines](https://github.com/UofT-DSI/onboarding/blob/main/onboarding_documents/submissions.md#guidelines-for-pull-request-descriptions) and adhere to them.\n",
    "- [ ] Verify that the link is accessible in a private browser window.\n",
    "\n",
    "If you encounter any difficulties or have questions, please don't hesitate to reach out to our team via our Slack at `#cohort-3-help`. Our Technical Facilitators and Learning Support staff are here to help you navigate any challenges."
   ]
  }
 ],
 "metadata": {
  "kernelspec": {
   "display_name": "Python 3",
   "language": "python",
   "name": "python3"
  },
  "language_info": {
   "codemirror_mode": {
    "name": "ipython",
    "version": 3
   },
   "file_extension": ".py",
   "mimetype": "text/x-python",
   "name": "python",
   "nbconvert_exporter": "python",
   "pygments_lexer": "ipython3",
   "version": "3.9.18"
  }
 },
 "nbformat": 4,
 "nbformat_minor": 2
}
